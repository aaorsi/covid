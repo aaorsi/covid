{
 "cells": [
  {
   "cell_type": "code",
   "execution_count": 1,
   "metadata": {},
   "outputs": [],
   "source": [
    "import pandas as pd\n",
    "import wget\n",
    "import os\n",
    "import lmfit\n",
    "from lmfit.models import StepModel, ExponentialModel, PolynomialModel\n",
    "\n",
    "\n",
    "DataSource = 'OurWorldData'\n",
    "\n",
    "if DataSource == 'JohnHopkins':\n",
    "    fname = 'time_series_19-covid-Confirmed.csv'\n",
    "\n",
    "    if os.path.exists(fname):\n",
    "        os.remove(fname)\n",
    "\n",
    "    ddir = 'data/'\n",
    "    url = 'https://raw.githubusercontent.com/CSSEGISandData/COVID-19/master/csse_covid_19_data/csse_covid_19_time_series/time_series_19-covid-Confirmed.csv'\n",
    "    ff = wget.download(url)\n",
    "    print (ff)\n",
    "    assert ff == fname, f'File name retrieved {ff} changed name? {fname}'\n",
    "\n",
    "    dd = pd.read_csv(ff)\n",
    "\n",
    "else:\n",
    "    fname = 'full_data.csv'\n",
    "    if os.path.exists(fname):\n",
    "        os.remove(fname)\n",
    "    \n",
    "    url = 'https://covid.ourworldindata.org/data/ecdc/full_data.csv'\n",
    "    ff = wget.download(url)\n",
    "    assert ff == fname, f'File name retrieved {ff} changed name? {fname}'\n",
    "    dd = pd.read_csv(ff, parse_dates = ['date'])\n",
    "    \n",
    "    \n",
    "## Data source: https://github.com/CSSEGISandData/COVID-19/tree/master/csse_covid_19_data/csse_covid_19_time_series\n",
    "\n"
   ]
  },
  {
   "cell_type": "code",
   "execution_count": 2,
   "metadata": {},
   "outputs": [
    {
     "data": {
      "text/plain": [
       "array(['Afghanistan', 'Albania', 'Algeria', 'Andorra', 'Angola',\n",
       "       'Antigua and Barbuda', 'Argentina', 'Armenia', 'Australia',\n",
       "       'Austria', 'Azerbaijan', 'Bahamas', 'Bahrain', 'Bangladesh',\n",
       "       'Barbados', 'Belarus', 'Belgium', 'Benin', 'Bermuda', 'Bhutan',\n",
       "       'Bolivia', 'Bosnia and Herzegovina', 'Brazil', 'Brunei',\n",
       "       'Bulgaria', 'Burkina Faso', 'Cambodia', 'Cameroon', 'Canada',\n",
       "       'Cape Verde', 'Cayman Islands', 'Central African Republic', 'Chad',\n",
       "       'Chile', 'China', 'Colombia', 'Congo', 'Costa Rica',\n",
       "       \"Cote d'Ivoire\", 'Croatia', 'Cuba', 'Cyprus', 'Czech Republic',\n",
       "       'Democratic Republic of Congo', 'Denmark', 'Djibouti',\n",
       "       'Dominican Republic', 'Ecuador', 'Egypt', 'El Salvador',\n",
       "       'Equatorial Guinea', 'Eritrea', 'Estonia', 'Ethiopia',\n",
       "       'Faeroe Islands', 'Fiji', 'Finland', 'France', 'French Polynesia',\n",
       "       'Gabon', 'Gambia', 'Georgia', 'Germany', 'Ghana', 'Gibraltar',\n",
       "       'Greece', 'Greenland', 'Guam', 'Guatemala', 'Guernsey', 'Guinea',\n",
       "       'Guyana', 'Haiti', 'Honduras', 'Hungary', 'Iceland', 'India',\n",
       "       'Indonesia', 'International', 'Iran', 'Iraq', 'Ireland',\n",
       "       'Isle of Man', 'Israel', 'Italy', 'Jamaica', 'Japan', 'Jersey',\n",
       "       'Jordan', 'Kazakhstan', 'Kenya', 'Kosovo', 'Kuwait', 'Kyrgyzstan',\n",
       "       'Latvia', 'Lebanon', 'Liberia', 'Liechtenstein', 'Lithuania',\n",
       "       'Luxembourg', 'Macedonia', 'Madagascar', 'Malaysia', 'Maldives',\n",
       "       'Malta', 'Mauritania', 'Mauritius', 'Mexico', 'Moldova', 'Monaco',\n",
       "       'Mongolia', 'Montenegro', 'Montserrat', 'Morocco', 'Myanmar',\n",
       "       'Namibia', 'Nepal', 'Netherlands', 'Netherlands Antilles',\n",
       "       'New Caledonia', 'New Zealand', 'Nicaragua', 'Niger', 'Nigeria',\n",
       "       'Norway', 'Oman', 'Pakistan', 'Palestine', 'Panama',\n",
       "       'Papua New Guinea', 'Paraguay', 'Peru', 'Philippines', 'Poland',\n",
       "       'Portugal', 'Qatar', 'Romania', 'Russia', 'Rwanda', 'Saint Lucia',\n",
       "       'Saint Vincent and the Grenadines', 'San Marino', 'Saudi Arabia',\n",
       "       'Senegal', 'Serbia', 'Seychelles', 'Singapore', 'Slovakia',\n",
       "       'Slovenia', 'Somalia', 'South Africa', 'South Korea', 'Spain',\n",
       "       'Sri Lanka', 'Sudan', 'Suriname', 'Swaziland', 'Sweden',\n",
       "       'Switzerland', 'Taiwan', 'Tanzania', 'Thailand', 'Timor', 'Togo',\n",
       "       'Trinidad and Tobago', 'Tunisia', 'Turkey', 'Uganda', 'Ukraine',\n",
       "       'United Arab Emirates', 'United Kingdom', 'United States',\n",
       "       'Uruguay', 'Uzbekistan', 'Vatican', 'Venezuela', 'Vietnam',\n",
       "       'World', 'Zambia', 'Zimbabwe'], dtype=object)"
      ]
     },
     "execution_count": 2,
     "metadata": {},
     "output_type": "execute_result"
    }
   ],
   "source": [
    "dd['location'].unique()"
   ]
  },
  {
   "cell_type": "code",
   "execution_count": 3,
   "metadata": {},
   "outputs": [
    {
     "data": {
      "text/plain": [
       "Timestamp('2019-12-31 00:00:00')"
      ]
     },
     "execution_count": 3,
     "metadata": {},
     "output_type": "execute_result"
    }
   ],
   "source": [
    "dd['date'][0] "
   ]
  },
  {
   "cell_type": "code",
   "execution_count": null,
   "metadata": {},
   "outputs": [],
   "source": []
  },
  {
   "cell_type": "code",
   "execution_count": null,
   "metadata": {},
   "outputs": [],
   "source": []
  },
  {
   "cell_type": "code",
   "execution_count": 8,
   "metadata": {},
   "outputs": [
    {
     "name": "stdout",
     "output_type": "stream",
     "text": [
      "           date     location  new_cases  new_deaths  total_cases  total_deaths\n",
      "4101 2019-12-31  New Zealand          0           0            0             0\n",
      "4102 2020-01-01  New Zealand          0           0            0             0\n",
      "4103 2020-01-02  New Zealand          0           0            0             0\n",
      "4104 2020-01-03  New Zealand          0           0            0             0\n",
      "4105 2020-01-04  New Zealand          0           0            0             0\n",
      "...         ...          ...        ...         ...          ...           ...\n",
      "4170 2020-03-18  New Zealand         12           0           20             0\n",
      "4171 2020-03-19  New Zealand          8           0           28             0\n",
      "4172 2020-03-20  New Zealand         11           0           39             0\n",
      "4173 2020-03-21  New Zealand         14           0           53             0\n",
      "4174 2020-03-22  New Zealand         13           0           66             0\n",
      "\n",
      "[74 rows x 6 columns]\n",
      "2020-03-02 00:00:00 62\n",
      "New Zealand 0\n",
      "New Zealand 29\n",
      "Index(['02/03', '03/03', '04/03', '05/03', '06/03', '07/03', '08/03', '09/03',\n",
      "       '10/03', '11/03', '12/03', '13/03', '14/03', '15/03', '16/03', '17/03',\n",
      "       '18/03', '19/03', '20/03', '21/03', '22/03', '23/03', '24/03', '25/03',\n",
      "       '26/03', '27/03', '28/03', '29/03', '30/03'],\n",
      "      dtype='object')\n"
     ]
    },
    {
     "name": "stderr",
     "output_type": "stream",
     "text": [
      "/mnt/DATA/anaconda3/envs/covid/lib/python3.6/site-packages/lmfit/lineshapes.py:323: RuntimeWarning: overflow encountered in exp\n",
      "  out = (1. - 1./(1. + exp(out)))\n"
     ]
    },
    {
     "data": {
      "image/png": "[encoded data removed]",
      "text/plain": [
       "<Figure size 1080x504 with 1 Axes>"
      ]
     },
     "metadata": {
      "needs_background": "light"
     },
     "output_type": "display_data"
    }
   ],
   "source": [
    "import matplotlib.pyplot as plt\n",
    "import numpy as np\n",
    "from scipy.optimize import curve_fit\n",
    "\n",
    "countries = ['New Zealand']#,'Chile','Italy','Spain']\n",
    "ncountries = len(countries)\n",
    "models= {'Logistic': StepModel(form='logistic'), \n",
    "        'Exponential': ExponentialModel() }#,\n",
    "        #'3rd deg. Polynomial': PolynomialModel(degree=3)}\n",
    "\n",
    "colors = ['tab:blue', 'tab:orange', 'tab:green', 'tab:red', 'tab:purple', 'tab:brown', 'tab:pink', 'tab:gray', 'tab:olive', 'tab:cyan']\n",
    "fig, axs = plt.subplots(ncountries,figsize=(15,ncountries*7))\n",
    "plt.rcParams['legend.title_fontsize'] = 'xx-large'\n",
    "\n",
    "countryvar = 'location' if DataSource == 'OurWorldData' else 'Country/Region'\n",
    "\n",
    "for icc,country in enumerate(countries):\n",
    "\n",
    "    sel = dd[countryvar] == country\n",
    "    dc = dd.loc[sel]\n",
    "    print (dc)\n",
    "    cols = list(dc.columns)\n",
    "    dates = cols[4:] if DataSource == 'JohnHopkins' else dc['date'].reset_index(drop=True)\n",
    "\n",
    "    if DataSource == 'JohnHopkins':\n",
    "        nn = []\n",
    "        for i in dates:\n",
    "            nn.append(dc[i].to_numpy()[0])\n",
    "    else:\n",
    "        nn = dc['total_cases'].reset_index(drop=True).to_numpy()\n",
    "        \n",
    "    xstart = 0\n",
    "    \n",
    "    for ii, inn in enumerate(list(nn)):\n",
    "        if inn > 1:\n",
    "            xstart = ii-1 if ii > 1 else 0\n",
    "            break\n",
    "#    import pdb ; pdb.set_trace()        \n",
    "    nn = nn[xstart:]\n",
    "    print (dates.iloc[xstart], xstart)\n",
    "    dates = dates.iloc[xstart:].reset_index(drop=True)\n",
    "    \n",
    "    # ensuring data completeness    \n",
    "    dates_all = pd.date_range(start=dates.iloc[0], end=dates.iloc[-1])\n",
    "    ntotal = [] #np.zeros(len(dates_all))\n",
    "    iid = 0\n",
    "    for ixx, idate in enumerate(dates_all):\n",
    "        if dates.iloc[iid] == idate:\n",
    "            ntotal.append(nn[iid])\n",
    "            iid += 1\n",
    "        else:\n",
    "            ntotal.append(ntotal[ixx-1])\n",
    "    \n",
    "    #import pdb ; pdb.set_trace()\n",
    "    add_data_manually = True  # to add latest info not in the database yet\n",
    "    \n",
    "    if add_data_manually:\n",
    "        if country == 'Chile':\n",
    "            ntotal.append(632)\n",
    "            dates_all = pd.date_range(start=dates.iloc[0], periods = len(dates_all)+1)\n",
    "        if country == 'New Zealand':\n",
    "            ntotal.append(102)\n",
    "            dates_all = pd.date_range(start=dates.iloc[0], periods = len(dates_all)+1)\n",
    "    \n",
    "    nn = ntotal\n",
    "    dates = dates_all\n",
    "    xstart = 0\n",
    "\n",
    "    print (country, xstart)\n",
    "    ndata = len(nn)\n",
    "    nn = np.array(nn)\n",
    "    xx = np.arange(0,ndata)\n",
    "    xxx = np.arange(0,ndata+7)\n",
    "    nper = len(xxx)\n",
    "    print (country, nper)\n",
    "    xxxx = np.arange(0,ndata+7)# if nper < 100 else 2)\n",
    "    datesxxx = pd.date_range(start=dates[0], periods=nper).strftime('%d/%m')\n",
    "    \n",
    "    #import pdb ; pdb.set_trace()    \n",
    "    \n",
    "    print (datesxxx)\n",
    "    \n",
    "    if ncountries > 1:\n",
    "        ax = axs[icc]\n",
    "    else:\n",
    "        ax = axs\n",
    "\n",
    "    \n",
    "    ax.set_xticks(xxxx)\n",
    "    ax.set_xticklabels(datesxxx[xxxx], rotation='vertical')\n",
    "    ax.plot(xx,nn,'ko',markersize=8)\n",
    "    #ax.set_yscale('log')\n",
    "\n",
    "    icol = 0 \n",
    "    ixx = np.where(nn > 10)[0] if country == 'Spain' else np.where(nn > 8)[0]\n",
    "    bics = []\n",
    "    mn = []\n",
    "    \n",
    "    for mname, model in models.items():\n",
    "       \n",
    "        pars0 = model.guess(nn[ixx], x=xx[ixx])\n",
    "        out = model.fit(nn[ixx], pars0, x=xx[ixx])\n",
    "        pars = out.params\n",
    "        bics.append(out.bic)\n",
    "        mn.append(mname)\n",
    " \n",
    "        dely = out.eval_uncertainty(x=xxx)\n",
    "        y =  out.eval(pars,x=xxx)        \n",
    "        ax.plot(xxx,y, '-', label=f'{mname}', color=colors[icol],linewidth=3)\n",
    "        ax.fill_between(xxx, y-dely,y+dely,facecolor=colors[icol],alpha=0.25)\n",
    "        icol += 1\n",
    "        \n",
    "       # print (mname, country, y[len(xx) + 11], bics[-1])\n",
    "    \n",
    "    bic = np.argmin(bics)\n",
    "    ax.text(0.025,0.1,f'Best model: {mn[bic]}', fontsize=20,\n",
    "           transform=ax.transAxes, color= colors[bic])\n",
    "\n",
    "\n",
    "    ax.set_xlim([0,ndata + 7])\n",
    "    ax.set_ylim([0.1,np.min([100000, np.max(nn)*2.5])])\n",
    "    ax.ticklabel_format(axis='y', style='sci',useMathText=True, scilimits=(0,5))\n",
    "    ax.set_ylabel('Total number of cases',fontsize=20)\n",
    "    ax.legend(title=country, fontsize=20,loc='upper left')\n",
    "    ax.grid()\n",
    "    \n",
    "\n",
    "plt.show()\n",
    "\n",
    "\n",
    "#popt2, pcov2 = curve_fit(sigmoid, np.arange(ndata), nn, sigma= err,p0=[.001, .1,.1],absolute_sigma=True)\n",
    "\n",
    "\n",
    "#print (popt)"
   ]
  },
  {
   "cell_type": "code",
   "execution_count": 5,
   "metadata": {},
   "outputs": [
    {
     "data": {
      "text/html": [
       "<div>\n",
       "<style scoped>\n",
       "    .dataframe tbody tr th:only-of-type {\n",
       "        vertical-align: middle;\n",
       "    }\n",
       "\n",
       "    .dataframe tbody tr th {\n",
       "        vertical-align: top;\n",
       "    }\n",
       "\n",
       "    .dataframe thead th {\n",
       "        text-align: right;\n",
       "    }\n",
       "</style>\n",
       "<table border=\"1\" class=\"dataframe\">\n",
       "  <thead>\n",
       "    <tr style=\"text-align: right;\">\n",
       "      <th></th>\n",
       "      <th>INDICATOR_CODE</th>\n",
       "      <th>INDICATOR_NAME</th>\n",
       "      <th>SOURCE_NOTE</th>\n",
       "      <th>SOURCE_ORGANIZATION</th>\n",
       "      <th>Unnamed: 4</th>\n",
       "    </tr>\n",
       "  </thead>\n",
       "  <tbody>\n",
       "    <tr>\n",
       "      <th>0</th>\n",
       "      <td>EN.POP.DNST</td>\n",
       "      <td>Population density (people per sq. km of land ...</td>\n",
       "      <td>Population density is midyear population divid...</td>\n",
       "      <td>Food and Agriculture Organization and World Ba...</td>\n",
       "      <td>NaN</td>\n",
       "    </tr>\n",
       "  </tbody>\n",
       "</table>\n",
       "</div>"
      ],
      "text/plain": [
       "  INDICATOR_CODE                                     INDICATOR_NAME  \\\n",
       "0    EN.POP.DNST  Population density (people per sq. km of land ...   \n",
       "\n",
       "                                         SOURCE_NOTE  \\\n",
       "0  Population density is midyear population divid...   \n",
       "\n",
       "                                 SOURCE_ORGANIZATION  Unnamed: 4  \n",
       "0  Food and Agriculture Organization and World Ba...         NaN  "
      ]
     },
     "execution_count": 5,
     "metadata": {},
     "output_type": "execute_result"
    }
   ],
   "source": [
    "data = 'data/Metadata_Indicator_API_EN.POP.DNST_DS2_en_csv_v2_887474.csv'\n",
    "df = pd.read_csv(data)\n",
    "df"
   ]
  },
  {
   "cell_type": "code",
   "execution_count": null,
   "metadata": {},
   "outputs": [],
   "source": []
  },
  {
   "cell_type": "code",
   "execution_count": null,
   "metadata": {},
   "outputs": [],
   "source": []
  },
  {
   "cell_type": "code",
   "execution_count": 6,
   "metadata": {},
   "outputs": [
    {
     "ename": "NameError",
     "evalue": "name 'd' is not defined",
     "output_type": "error",
     "traceback": [
      "\u001b[0;31m---------------------------------------------------------------------------\u001b[0m",
      "\u001b[0;31mNameError\u001b[0m                                 Traceback (most recent call last)",
      "\u001b[0;32m<ipython-input-6-233acd00d33b>\u001b[0m in \u001b[0;36m<module>\u001b[0;34m\u001b[0m\n\u001b[0;32m----> 1\u001b[0;31m \u001b[0md\u001b[0m\u001b[0;34m\u001b[0m\u001b[0;34m\u001b[0m\u001b[0m\n\u001b[0m\u001b[1;32m      2\u001b[0m \u001b[0;34m\u001b[0m\u001b[0m\n\u001b[1;32m      3\u001b[0m \u001b[0;34m\u001b[0m\u001b[0m\n",
      "\u001b[0;31mNameError\u001b[0m: name 'd' is not defined"
     ]
    }
   ],
   "source": [
    "\n",
    "d\n",
    "\n",
    "\n"
   ]
  }
 ],
 "metadata": {
  "kernelspec": {
   "display_name": "Python 3",
   "language": "python",
   "name": "python3"
  },
  "language_info": {
   "codemirror_mode": {
    "name": "ipython",
    "version": 3
   },
   "file_extension": ".py",
   "mimetype": "text/x-python",
   "name": "python",
   "nbconvert_exporter": "python",
   "pygments_lexer": "ipython3",
   "version": "3.6.10"
  }
 },
 "nbformat": 4,
 "nbformat_minor": 4
}
